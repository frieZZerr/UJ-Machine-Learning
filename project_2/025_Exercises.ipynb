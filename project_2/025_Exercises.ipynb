{
 "cells": [
  {
   "cell_type": "markdown",
   "metadata": {},
   "source": [
    "# Exercises\n",
    "\n",
    "There are three exercises in this notebook:\n",
    "\n",
    "1. Use the cross-validation method to test the linear regression with different $\\alpha$ values, at least three.\n",
    "2. Implement a SGD method that will train the Lasso regression for 10 epochs.\n",
    "3. Extend the Fisher's classifier to work with two features. Use the class as the $y$."
   ]
  },
  {
   "cell_type": "markdown",
   "metadata": {},
   "source": [
    "## 1. Cross-validation linear regression\n",
    "\n",
    "You need to change the variable ``alpha`` to be a list of alphas. Next do a loop and finally compare the results."
   ]
  },
  {
   "cell_type": "code",
   "execution_count": 7,
   "metadata": {
    "collapsed": false
   },
   "outputs": [
    {
     "name": "stdout",
     "output_type": "stream",
     "text": [
      "Alpha = 0.01\n",
      "Weights: [[-167.85534019    1.54416013]]\n",
      "\n",
      "Alpha = 0.1\n",
      "Weights: [[-101.72397081    1.16978757]]\n",
      "\n",
      "Alpha = 0.5\n",
      "Weights: [[-36.97522016   0.80324169]]\n",
      "\n"
     ]
    }
   ],
   "source": [
    "import numpy as np\n",
    "\n",
    "x = np.array([188, 181, 197, 168, 167, 187, 178, 194, 140, 176, 168, 192, 173, 142, 176]).reshape(-1, 1).reshape(15,1)\n",
    "y = np.array([141, 106, 149, 59, 79, 136, 65, 136, 52, 87, 115, 140, 82, 69, 121]).reshape(-1, 1).reshape(15,1)\n",
    "\n",
    "x = np.asmatrix(np.c_[np.ones((15,1)),x])\n",
    "\n",
    "I = np.identity(2)\n",
    "alphas = [0.01, 0.1, 0.5] # change here\n",
    "\n",
    "# add 1-3 line of code here\n",
    "results = []\n",
    "for alpha in alphas:\n",
    "    w = np.linalg.inv(x.T*x + alpha * I)*x.T*y\n",
    "    w=w.ravel()\n",
    "    results.append(w)\n",
    "\n",
    "# add 1-3 lines to compare the results\n",
    "for i, alpha in enumerate(alphas):\n",
    "    print(\"Alpha =\", alpha)\n",
    "    print(\"Weights:\", results[i])\n",
    "    print()\n"
   ]
  },
  {
   "cell_type": "markdown",
   "metadata": {},
   "source": [
    "## 2. Implement based on the Ridge regression example, the Lasso regression.\n",
    "\n",
    "Please implement the SGD method and compare the results with the sklearn Lasso regression results. "
   ]
  },
  {
   "cell_type": "code",
   "execution_count": 53,
   "metadata": {
    "collapsed": false
   },
   "outputs": [],
   "source": [
    "import numpy as np\n",
    "from sklearn.linear_model import Lasso\n",
    "from sklearn.metrics import mean_squared_error\n",
    "\n",
    "def sgd(x, y, alpha, epochs):\n",
    "    bias = 1.0\n",
    "    weights = np.ones(x.shape[1])\n",
    "\n",
    "    for i in range(epochs):\n",
    "        delta = y - (x * weights + bias)\n",
    "\n",
    "        weights_gradient = -2 * sum(x * delta) / (np.linalg.norm(x) ** 2)\n",
    "        bias_gradient    = -(2 / y.size) * sum(delta)\n",
    "\n",
    "        weights -= alpha * weights_gradient\n",
    "        bias    -= alpha * bias_gradient\n",
    "\n",
    "    return weights, bias"
   ]
  },
  {
   "cell_type": "code",
   "execution_count": 54,
   "metadata": {
    "collapsed": false
   },
   "outputs": [],
   "source": [
    "x = np.array([188, 181, 197, 168, 167, 187, 178, 194, 140, 176, 168, 192, 173, 142, 176]).reshape(-1, 1).reshape(15,1)\n",
    "y = np.array([141, 106, 149, 59, 79, 136, 65, 136, 52, 87, 115, 140, 82, 69, 121]).reshape(-1, 1).reshape(15,1)\n",
    "\n",
    "alpha = 0.1 \n",
    "epochs = 10"
   ]
  },
  {
   "cell_type": "code",
   "execution_count": 55,
   "metadata": {
    "collapsed": false,
    "scrolled": true
   },
   "outputs": [
    {
     "name": "stdout",
     "output_type": "stream",
     "text": [
      "SGD epochs=10 | coef: [0.8003962894878118] intercept: [-36.34501185508552]\n",
      "Sklearn | coef: [1.6177649901016677] intercept: [-180.85790859980537]\n"
     ]
    }
   ],
   "source": [
    "w_sgd = []\n",
    "for epoch in range(epochs):\n",
    "    w_sgd.append(sgd(x, y, alpha, epoch))\n",
    "\n",
    "print(\"SGD epochs=\" + str(epochs) + \" | coef: [\" + str(w_sgd[epochs-1][0][0]) + \"] intercept: [\" + str(w_sgd[epochs-1][1][0]) + \"]\")\n",
    "\n",
    "lasso_regression = Lasso(alpha=alpha)\n",
    "lasso_regression.fit(X=x, y=y)\n",
    "w_sklearn = lasso_regression.coef_, lasso_regression.intercept_\n",
    "\n",
    "print(\"Sklearn | coef: [\" + str(w_sklearn[0][0]) + \"] intercept: [\" + str(w_sklearn[1][0]) + \"]\")"
   ]
  },
  {
   "cell_type": "markdown",
   "metadata": {},
   "source": [
    "## 3. Extend the Fisher's classifier\n",
    "\n",
    "Please extend the targets of the ``iris_data`` variable and use it as the $y$."
   ]
  },
  {
   "cell_type": "code",
   "execution_count": 62,
   "metadata": {
    "collapsed": false
   },
   "outputs": [
    {
     "name": "stdout",
     "output_type": "stream",
     "text": [
      "                       \n",
      "0    0.924785  1.051418\n",
      "1    0.885212  1.035589\n",
      "2    0.901042  1.019760\n",
      "3    0.893127  1.011845\n",
      "4    0.932700  1.043504\n",
      "..        ...       ...\n",
      "145  0.885212  1.178051\n",
      "146  0.845640  1.146393\n",
      "147  0.885212  1.162222\n",
      "148  0.916871  1.138479\n",
      "149  0.885212  1.114735\n",
      "\n",
      "[150 rows x 2 columns]\n"
     ]
    }
   ],
   "source": [
    "import pandas as pd\n",
    "import numpy as np\n",
    "import matplotlib.pyplot as plt\n",
    "from sklearn.datasets import load_iris\n",
    "\n",
    "iris_data = load_iris()\n",
    "iris_df = pd.DataFrame(iris_data.data,columns=iris_data.feature_names)\n",
    "iris_df['target'] = iris_data.target\n",
    "\n",
    "x = iris_df[['sepal width (cm)','sepal length (cm)']].values # change here\n",
    "y = iris_df['target'].values.reshape(-1, 1) # change here\n",
    "\n",
    "dataset_size = np.size(x)\n",
    "\n",
    "mean_x, mean_y = np.mean(x), np.mean(y)\n",
    "\n",
    "SS_xy = np.sum(y * x) - dataset_size * mean_y * mean_x\n",
    "SS_xx = np.sum(x * x) - dataset_size * mean_x * mean_x\n",
    "\n",
    "a = SS_xy / SS_xx\n",
    "b = mean_y - a * mean_x\n",
    "\n",
    "\n",
    "y_pred = a * x + b\n",
    "\n",
    "df = pd.DataFrame(y_pred, columns=[\"\", \"\"])\n",
    "print(df)"
   ]
  },
  {
   "cell_type": "code",
   "execution_count": null,
   "metadata": {
    "collapsed": true
   },
   "outputs": [],
   "source": []
  }
 ],
 "metadata": {
  "kernelspec": {
   "display_name": "Python 3",
   "language": "python",
   "name": "python3"
  },
  "language_info": {
   "codemirror_mode": {
    "name": "ipython",
    "version": 3
   },
   "file_extension": ".py",
   "mimetype": "text/x-python",
   "name": "python",
   "nbconvert_exporter": "python",
   "pygments_lexer": "ipython3",
   "version": "3.5.3"
  }
 },
 "nbformat": 4,
 "nbformat_minor": 4
}
